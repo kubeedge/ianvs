{
  "cells": [
    {
      "cell_type": "markdown",
      "metadata": {},
      "source": [
        "\n"
      ]
    },
    {
      "cell_type": "markdown",
      "metadata": {},
      "source": [
        "\n"
      ]
    },
    {
      "cell_type": "code",
      "execution_count": null,
      "metadata": {},
      "outputs": [],
      "source": [
        "\n"
      ]
    },
    {
      "cell_type": "markdown",
      "metadata": {},
      "source": [
        "\n"
      ]
    },
    {
      "cell_type": "code",
      "execution_count": null,
      "metadata": {},
      "outputs": [],
      "source": [
        "# 配置Qwen2.5-7B模型参数\n",
        "QWEN_CONFIG = {\n",
        "    'model_name': 'Qwen/Qwen2.5-7B-Instruct',\n",
        "    'max_seq_length': 2048,\n",
        "    'dtype': None,  # 自动检测\n",
        "    'load_in_4bit': True,\n",
        "    'device_map': 'auto',\n",
        "    'quantization_config': {\n",
        "        'load_in_4bit': True,\n",
        "        'bnb_4bit_compute_dtype': 'float16',\n",
        "        'bnb_4bit_use_double_quant': True,\n",
        "        'bnb_4bit_quant_type': 'nf4'\n",
        "    }\n",
        "}\n",
        "\n",
        "print(\"🔧 Qwen2.5-7B配置完成\")\n",
        "print(f\"模型名称: {QWEN_CONFIG['model_name']}\")\n",
        "print(f\"最大序列长度: {QWEN_CONFIG['max_seq_length']}\")\n",
        "print(f\"4-bit量化: {QWEN_CONFIG['load_in_4bit']}\")\n",
        "print(f\"设备映射: {QWEN_CONFIG['device_map']}\")\n"
      ]
    },
    {
      "cell_type": "markdown",
      "metadata": {},
      "source": [
        "\n"
      ]
    },
    {
      "cell_type": "code",
      "execution_count": null,
      "metadata": {},
      "outputs": [],
      "source": [
        "\n"
      ]
    }
  ],
  "metadata": {
    "language_info": {
      "name": "python"
    }
  },
  "nbformat": 4,
  "nbformat_minor": 2
}
